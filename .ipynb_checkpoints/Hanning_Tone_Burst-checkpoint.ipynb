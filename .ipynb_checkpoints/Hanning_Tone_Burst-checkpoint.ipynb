{
 "cells": [
  {
   "cell_type": "code",
   "execution_count": 30,
   "metadata": {},
   "outputs": [
    {
     "data": {
      "application/vnd.jupyter.widget-view+json": {
       "model_id": "07b42a9adc5543f98b73981e23aa289f",
       "version_major": 2,
       "version_minor": 0
      },
      "text/plain": [
       "VBox(children=(interactive(children=(IntSlider(value=25, description='nCycles', max=50, min=1), IntSlider(valu…"
      ]
     },
     "metadata": {},
     "output_type": "display_data"
    }
   ],
   "source": [
    "#HIDDEN\n",
    "\n",
    "from ipywidgets import *\n",
    "import numpy as np\n",
    "import nbinteract as nb\n",
    "from IPython.display import HTML\n",
    "\n",
    "#https://www.reddit.com/r/IPython/comments/4e195c/best_practices_for_hiding_code_in_jupyter_notebook/\n",
    "# HTML('''<script>\n",
    "# code_show=true; \n",
    "# function code_toggle() {\n",
    "#  if (code_show){\n",
    "#  $('div.input').hide();\n",
    "#  } else {\n",
    "#  $('div.input').show();\n",
    "#  }\n",
    "#  code_show = !code_show\n",
    "# } \n",
    "# $( document ).ready(code_toggle);\n",
    "# </script>\n",
    "# The raw code for this IPython notebook is by default hidden for easier reading.\n",
    "# To toggle on/off the raw code, click <a href=\"javascript:code_toggle()\">here</a>.''')\n",
    "\n",
    "\n",
    "\n",
    "\n",
    "def x_vals(nCycles,freqkHZ):\n",
    "    freq = freqkHZ*100\n",
    "    dt = (1/(10*freq))\n",
    "    Ts = nCycles/freq\n",
    "    half_pulse_length = 0.5*nCycles/freq\n",
    "    tTot = 80/freq\n",
    "    tzero = 0.5*tTot\n",
    "    nt = int( np.ceil(tTot/dt) )\n",
    "    tSig = np.linspace(0,tTot,nt)\n",
    "    return tSig\n",
    "\n",
    "def y_vals(xs,nCycles,freqkHZ):\n",
    "    \n",
    "    freq = freqkHZ*100\n",
    "    Ts = nCycles/freq\n",
    "    tTot = 80/freq\n",
    "    tzero = 0.5*tTot\n",
    "    tSig = xs\n",
    "    timeHan = tSig-tzero-(Ts/2)\n",
    "    sig1 = np.sin(2*np.pi*timeHan*freq)\n",
    "    sig1 = sig1*0.5*(1-np.cos(2*np.pi*timeHan/Ts))\n",
    "    sig1 [tSig < (tzero - Ts/2) ] = 1e-20\n",
    "    sig1[tSig > (tzero + Ts/2) ] = 1e-20;\n",
    "    return sig1\n",
    "\n",
    "options = {\n",
    "    'title': 'Hann Window - Time Domain',\n",
    "    'xlabel': 'Time [s]',\n",
    "    'ylabel': 'Amplitude [a.u]',\n",
    "    'ylim': (-1, 1),\n",
    "}\n",
    "\n",
    "# nbi:left\n",
    "nb.line( x_vals, y_vals, options=options , nCycles = (1,50), freqkHZ = (1,500) )\n",
    "\n",
    "\n"
   ]
  }
 ],
 "metadata": {
  "kernelspec": {
   "display_name": "Python 3",
   "language": "python",
   "name": "python3"
  },
  "language_info": {
   "codemirror_mode": {
    "name": "ipython",
    "version": 3
   },
   "file_extension": ".py",
   "mimetype": "text/x-python",
   "name": "python",
   "nbconvert_exporter": "python",
   "pygments_lexer": "ipython3",
   "version": "3.7.1"
  }
 },
 "nbformat": 4,
 "nbformat_minor": 2
}
