{
 "cells": [
  {
   "cell_type": "code",
   "execution_count": 23,
   "metadata": {},
   "outputs": [],
   "source": [
    "\n",
    "\n",
    "#https://ipywidgets.readthedocs.io/en/stable/examples/Widget%20Styling.html\n",
    "# wi = widgets.IntSlider(\n",
    "#     value=5,\n",
    "#     min=1,\n",
    "#     max=50,\n",
    "#     step=1,\n",
    "#     disabled=False,\n",
    "#     continuous_update=False,\n",
    "#     orientation='horizontal',\n",
    "#     readout=True,\n",
    "#     readout_format='d',\n",
    "#     description='Cycles',\n",
    "#     layout=Layout(width='50%', height='80px'),\n",
    "#     style=style\n",
    "# )\n",
    "\n",
    "# wfreq = widgets.IntSlider(\n",
    "#     value=85,\n",
    "#     min=1,\n",
    "#     max=500,\n",
    "#     step=1,\n",
    "#     disabled=False,\n",
    "#     continuous_update=False,\n",
    "#     orientation='horizontal',\n",
    "#     readout=True,\n",
    "#     readout_format='d',\n",
    "#     description = 'Frequency [kHz]' ,\n",
    "#     layout=Layout(width='50%', height='80px'),\n",
    "#     style=style\n",
    "# )\n",
    "\n",
    "\n",
    "# def myfun( w , freqkHz = 85.0):\n",
    "#     #fig = plt.figure(num=1, figsize=[20, 5])\n",
    "#     #ax = fig.add_subplot(1, 2, 1)\n",
    "#     print(w)\n",
    "#     print(type(w))\n",
    "#     nCycles = w.astype(int) #np.floor(w)\n",
    "#     print(nCycles)\n",
    "#     # Hanning window\n",
    "#     sig1, tSig = HanningSignal(freqkHz*1000,nCycles)\n",
    "#     t = tSig\n",
    "#     y_signal=sig1\n",
    "#     return y_signal, t;\n",
    "    \n",
    "#     maxfreq = (freqkHz+(4*freqkHz/nCycles))/1\n",
    "#     minfreq = (freqkHz-(4*freqkHz/nCycles))/1\n",
    "#     if minfreq <0:\n",
    "#         minfreq =0  \n",
    "# y_signal, t = myfun(w= 5,freqkHz = 85.0)\n",
    "\n",
    "    \n",
    "    \n",
    "#     ax.plot( t, y_signal , color=mycolor, label='Time Signal',linewidth =2)\n",
    "#     ax.legend(loc=1)\n",
    "#     plt.axis('tight')\n",
    "#     plt.xlabel(\"Time (s)\")\n",
    "#     plt.title('Time domain')\n",
    "    \n",
    "#     # Compute the FFT\n",
    "#     f_s = 1/(t[1]-t[0])\n",
    "#     fft_x = np.fft.fft(y_signal)\n",
    "#     n = len(fft_x)\n",
    "#     freq = np.fft.fftfreq(n, 1/f_s)\n",
    "\n",
    "#     # Swap half spaces\n",
    "#     fft_x_shifted = np.fft.fftshift(fft_x)\n",
    "#     freq_shifted = np.fft.fftshift(freq)\n",
    "\n",
    "#     #Fold negative frequencies and scale\n",
    "#     half_n = int(np.ceil(n/2.0))\n",
    "#     fft_x_half = (2.0 / n) * fft_x[:half_n]\n",
    "#     freq_half = freq[:half_n]\n",
    "\n",
    "#     ax = fig.add_subplot(1, 2, 2)\n",
    "#     ax.plot(freq_half/1000, np.abs(fft_x_half), color=mycolor, label='Spectrum Amplitude ',linewidth =5)\n",
    "#     ax.legend(loc=1)\n",
    "#     plt.title('Frequency domain')\n",
    "#     plt.xlabel(\"Frequency (kHz)\")\n",
    "#     plt.axis('tight')\n",
    "#     plt.xlim(minfreq,maxfreq)\n",
    "    \n",
    "#     fig.canvas.draw()\n",
    "# interact(myfun,nCycles=(5, 10),freqkHz=(50, 100));\n"
   ]
  },
  {
   "cell_type": "code",
   "execution_count": 27,
   "metadata": {},
   "outputs": [
    {
     "data": {
      "application/vnd.jupyter.widget-view+json": {
       "model_id": "4ab9079c36df4d77a9f7383ef39c080d",
       "version_major": 2,
       "version_minor": 0
      },
      "text/plain": [
       "VBox(children=(interactive(children=(IntSlider(value=25, description='nCycles', max=50, min=1), IntSlider(valu…"
      ]
     },
     "metadata": {},
     "output_type": "display_data"
    }
   ],
   "source": [
    "from ipywidgets import *\n",
    "import numpy as np\n",
    "#import matplotlib.pyplot as plt\n",
    "import nbinteract as nb\n",
    "\n",
    "%matplotlib inline\n",
    "\n",
    "\n",
    "\n",
    "def x_vals(nCycles,freqkHZ):\n",
    "    print(nCycles)\n",
    "    freq = freqkHZ*100\n",
    "    dt = (1/(10*freq))\n",
    "    Ts = nCycles/freq\n",
    "    half_pulse_length = 0.5*nCycles/freq\n",
    "    tTot = 80/freq\n",
    "    tzero = 0.5*tTot\n",
    "    nt = int( np.ceil(tTot/dt) )\n",
    "    tSig = np.linspace(0,tTot,nt)\n",
    "    return tSig\n",
    "\n",
    "def y_vals(xs,nCycles,freqkHZ):\n",
    "    \n",
    "    freq = freqkHZ*100\n",
    "    Ts = nCycles/freq\n",
    "    tTot = 80/freq\n",
    "    tzero = 0.5*tTot\n",
    "    tSig = xs\n",
    "    timeHan = tSig-tzero-(Ts/2)\n",
    "    sig1 = np.sin(2*np.pi*timeHan*freq)\n",
    "    sig1 = sig1*0.5*(1-np.cos(2*np.pi*timeHan/Ts))\n",
    "    sig1 [tSig < (tzero - Ts/2) ] = 1e-20\n",
    "    sig1[tSig > (tzero + Ts/2) ] = 1e-20;\n",
    "    return sig1\n",
    "\n",
    "options = {\n",
    "    'title': 'Hann Window - Time Domain',\n",
    "    'xlabel': 'Time [s]',\n",
    "    'ylabel': 'Amplitude [a.u]',\n",
    "    'ylim': (-1, 1),\n",
    "}\n",
    "\n",
    "# nbi:left\n",
    "nb.line( x_vals, y_vals, options=options , nCycles = (1,50), freqkHZ = (1,500) )\n",
    "\n",
    "\n"
   ]
  },
  {
   "cell_type": "code",
   "execution_count": 25,
   "metadata": {},
   "outputs": [
    {
     "ename": "NameError",
     "evalue": "name 'nCycles' is not defined",
     "output_type": "error",
     "traceback": [
      "\u001b[1;31m---------------------------------------------------------------------------\u001b[0m",
      "\u001b[1;31mNameError\u001b[0m                                 Traceback (most recent call last)",
      "\u001b[1;32m<ipython-input-25-cbb31f727345>\u001b[0m in \u001b[0;36m<module>\u001b[1;34m\u001b[0m\n\u001b[1;32m----> 1\u001b[1;33m \u001b[0mprint\u001b[0m\u001b[1;33m(\u001b[0m\u001b[0mnCycles\u001b[0m\u001b[1;33m)\u001b[0m\u001b[1;33m\u001b[0m\u001b[1;33m\u001b[0m\u001b[0m\n\u001b[0m",
      "\u001b[1;31mNameError\u001b[0m: name 'nCycles' is not defined"
     ]
    }
   ],
   "source": [
    "print(nCycles)"
   ]
  }
 ],
 "metadata": {
  "kernelspec": {
   "display_name": "Python 3",
   "language": "python",
   "name": "python3"
  },
  "language_info": {
   "codemirror_mode": {
    "name": "ipython",
    "version": 3
   },
   "file_extension": ".py",
   "mimetype": "text/x-python",
   "name": "python",
   "nbconvert_exporter": "python",
   "pygments_lexer": "ipython3",
   "version": "3.7.1"
  }
 },
 "nbformat": 4,
 "nbformat_minor": 2
}
